{
 "cells": [
  {
   "cell_type": "code",
   "execution_count": 1,
   "metadata": {},
   "outputs": [],
   "source": [
    "import rtde_control\n",
    "import rtde_receive\n",
    "import numpy as np\n",
    "from SurfaceContact.move import move_default_pose\n",
    "import yaml\n"
   ]
  },
  {
   "cell_type": "code",
   "execution_count": 2,
   "metadata": {},
   "outputs": [],
   "source": [
    "# from recording_upload_server import CaptureServer\n",
    "\n",
    "rtde_c = rtde_control.RTDEControlInterface(\"192.168.1.13\")\n",
    "rtde_r = rtde_receive.RTDEReceiveInterface(\"192.168.1.13\")\n"
   ]
  },
  {
   "cell_type": "code",
   "execution_count": 4,
   "metadata": {},
   "outputs": [],
   "source": [
    "move_default_pose(rtde_c)"
   ]
  },
  {
   "cell_type": "code",
   "execution_count": 5,
   "metadata": {},
   "outputs": [
    {
     "data": {
      "text/plain": [
       "True"
      ]
     },
     "execution_count": 5,
     "metadata": {},
     "output_type": "execute_result"
    }
   ],
   "source": [
    "q = rtde_r.getActualTCPPose()\n",
    "target_p = rtde_c.poseTrans(q,[0,0,0,\n",
    "                               0,0,-np.pi/2])\n",
    "rtde_c.moveL(target_p,0.05,0.1)"
   ]
  }
 ],
 "metadata": {
  "kernelspec": {
   "display_name": "realsense",
   "language": "python",
   "name": "python3"
  },
  "language_info": {
   "codemirror_mode": {
    "name": "ipython",
    "version": 3
   },
   "file_extension": ".py",
   "mimetype": "text/x-python",
   "name": "python",
   "nbconvert_exporter": "python",
   "pygments_lexer": "ipython3",
   "version": "3.6.13"
  },
  "orig_nbformat": 4
 },
 "nbformat": 4,
 "nbformat_minor": 2
}
