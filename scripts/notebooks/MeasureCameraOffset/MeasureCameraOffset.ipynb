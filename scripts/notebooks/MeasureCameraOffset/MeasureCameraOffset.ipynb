{
 "cells": [
  {
   "cell_type": "code",
   "execution_count": null,
   "metadata": {},
   "outputs": [],
   "source": [
    "import rtde_control\n",
    "import rtde_receive\n",
    "import pyrealsense2 as rs\n",
    "import numpy as np\n",
    "import sys\n",
    "sys.path.append(\"../../\")\n",
    "\n",
    "from SurfaceContact.move import move_default_pose\n",
    "from SurfaceContact.control import SurfaceContactControl\n",
    "\n",
    "%load_ext autoreload\n",
    "%autoreload 2"
   ]
  },
  {
   "cell_type": "code",
   "execution_count": null,
   "metadata": {},
   "outputs": [],
   "source": [
    "# from recording_upload_server import CaptureServer\n",
    "\n",
    "rtde_c = rtde_control.RTDEControlInterface(\"192.168.1.13\")\n",
    "rtde_r = rtde_receive.RTDEReceiveInterface(\"192.168.1.13\")\n",
    "\n"
   ]
  },
  {
   "cell_type": "markdown",
   "metadata": {},
   "source": [
    "Step 0: align the TCP coordinate axes with the base coordinate axes.\n",
    "\n",
    "On the teaching pendant, go to 'Move'. Set Rx=Ry=Rz=0rad. Select the green tick sign and move the robot to the target pose. \n",
    "\n",
    "During the offset measurement, maintain the orientation of the TCP unchanged."
   ]
  },
  {
   "cell_type": "markdown",
   "metadata": {},
   "source": [
    "\n",
    "Step 1: remove the payload(the sleeve). Fix a target (ideally, something like a particle hang from a string) above the table.\n",
    "\n",
    "Step 2: using the teaching pendant, switch to 'local control', and move the TCP so that its center touches the target position. See example below.\n",
    "\n",
    "<img src=\"TCP_cal.jpg\" alt=\"TCP\" width=\"200\"/>\n",
    "\n",
    "Record the TCP pose data below.\n"
   ]
  },
  {
   "cell_type": "code",
   "execution_count": 17,
   "metadata": {},
   "outputs": [],
   "source": [
    "TCP_cal_pose = rtde_r.getActualTCPPose()"
   ]
  },
  {
   "cell_type": "markdown",
   "metadata": {},
   "source": [
    "Step 3: reinstall the payload. Use teaching pendant to the US probe tip to touch the target position using cartesian motion only, maintaining the TCP orientation unchanged. See example here.\n",
    "\n",
    "<img src=\"probe_cal.jpg\" alt=\"probe\" width=\"200\"/>\n",
    "\n",
    "\n",
    "Record the corresponding TCP pose data below."
   ]
  },
  {
   "cell_type": "code",
   "execution_count": 28,
   "metadata": {},
   "outputs": [],
   "source": [
    "probe_cal_pose =  rtde_r.getActualTCPPose()"
   ]
  },
  {
   "cell_type": "markdown",
   "metadata": {},
   "source": [
    "Step 4: Similar to Step 3, but move the center of the camera to touch the target position. See example here.\n",
    "\n",
    "<img src=\"camera_cal.jpg\" alt=\"camera\" width=\"200\"/>\n",
    "\n",
    "Record the corresponding TCP pose data below."
   ]
  },
  {
   "cell_type": "code",
   "execution_count": 31,
   "metadata": {},
   "outputs": [],
   "source": [
    "camera_cal_pose =  rtde_r.getActualTCPPose()"
   ]
  },
  {
   "cell_type": "code",
   "execution_count": 33,
   "metadata": {},
   "outputs": [
    {
     "data": {
      "text/plain": [
       "([-0.12016209948070314,\n",
       "  -0.4557777864461379,\n",
       "  0.13542323585901994,\n",
       "  -0.7229113308945374,\n",
       "  -3.057238408448976,\n",
       "  0.00018226003540043918],\n",
       " [-0.11989142745077212,\n",
       "  -0.45476812166882447,\n",
       "  0.3025776964070097,\n",
       "  -2.198603765820915,\n",
       "  -2.2439485370708074,\n",
       "  -0.00016533106286859592],\n",
       " [-0.1832468131970479,\n",
       "  -0.4547392907251474,\n",
       "  0.19038082576047977,\n",
       "  -2.247534884500703,\n",
       "  2.1948690853198265,\n",
       "  0.0001940186552874728])"
      ]
     },
     "execution_count": 33,
     "metadata": {},
     "output_type": "execute_result"
    }
   ],
   "source": [
    "TCP_cal_pose, probe_cal_pose , camera_cal_pose"
   ]
  },
  {
   "cell_type": "markdown",
   "metadata": {},
   "source": [
    "Save the data in yaml format."
   ]
  },
  {
   "cell_type": "code",
   "execution_count": 36,
   "metadata": {},
   "outputs": [],
   "source": [
    "import yaml\n",
    "\n",
    "with open('../config/end_factor_poses.yaml','w') as f:\n",
    "    yaml.safe_dump({'TCP':TCP_cal_pose,'probe':probe_cal_pose,'camera':camera_cal_pose},f)"
   ]
  }
 ],
 "metadata": {
  "kernelspec": {
   "display_name": "realsense",
   "language": "python",
   "name": "python3"
  },
  "language_info": {
   "codemirror_mode": {
    "name": "ipython",
    "version": 3
   },
   "file_extension": ".py",
   "mimetype": "text/x-python",
   "name": "python",
   "nbconvert_exporter": "python",
   "pygments_lexer": "ipython3",
   "version": "3.10.13"
  },
  "orig_nbformat": 4
 },
 "nbformat": 4,
 "nbformat_minor": 2
}
