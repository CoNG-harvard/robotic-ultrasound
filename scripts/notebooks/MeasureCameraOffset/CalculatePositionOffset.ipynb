{
 "cells": [
  {
   "cell_type": "code",
   "execution_count": 1,
   "metadata": {},
   "outputs": [],
   "source": [
    "import yaml\n",
    "import numpy as np\n",
    "\n",
    "with open('../../config/end_factor_poses.yaml','r') as f:\n",
    "    data = yaml.safe_load(f)\n",
    "    "
   ]
  },
  {
   "cell_type": "markdown",
   "metadata": {},
   "source": [
    "Calculate the relative offset between the probe tip/camera and the TCP, in TCP frame.\n",
    "\n",
    "Note: when recording the pose data in end_factor_poses.yaml, axes of the TCP are aligned with the axes of the base."
   ]
  },
  {
   "cell_type": "code",
   "execution_count": 2,
   "metadata": {},
   "outputs": [
    {
     "data": {
      "text/plain": [
       "{'TCP': [0.18450989377822125,\n",
       "  -0.28976433784638567,\n",
       "  0.6000262236142742,\n",
       "  1.722131834439475e-05,\n",
       "  5.616744666281656e-05,\n",
       "  2.807728733015483e-05],\n",
       " 'camera': [0.18346242086246442,\n",
       "  -0.22401085943084856,\n",
       "  0.5463978871486809,\n",
       "  -0.00010790089308201583,\n",
       "  4.464905857364546e-05,\n",
       "  5.930480168397026e-05],\n",
       " 'probe': [0.18344373462639815,\n",
       "  -0.2900770354269158,\n",
       "  0.4351039804396118,\n",
       "  -2.170153493590457e-05,\n",
       "  1.3327282867687872e-05,\n",
       "  -4.129151422803516e-05]}"
      ]
     },
     "execution_count": 2,
     "metadata": {},
     "output_type": "execute_result"
    }
   ],
   "source": [
    "data"
   ]
  },
  {
   "cell_type": "code",
   "execution_count": 4,
   "metadata": {},
   "outputs": [],
   "source": [
    "cam2tcp = np.array(data['TCP']) - np.array(data['camera'])\n",
    "probe2tcp = np.array(data['TCP']) - np.array(data['probe'])"
   ]
  },
  {
   "cell_type": "code",
   "execution_count": 5,
   "metadata": {},
   "outputs": [
    {
     "data": {
      "text/plain": [
       "array([1.06615915e-03, 3.12697581e-04, 1.64922243e-01, 3.89228533e-05,\n",
       "       4.28401638e-05, 6.93688016e-05])"
      ]
     },
     "execution_count": 5,
     "metadata": {},
     "output_type": "execute_result"
    }
   ],
   "source": [
    "probe2tcp"
   ]
  },
  {
   "cell_type": "code",
   "execution_count": 6,
   "metadata": {},
   "outputs": [
    {
     "data": {
      "text/plain": [
       "array([ 1.04747292e-03, -6.57534784e-02,  5.36283365e-02,  1.25122211e-04,\n",
       "        1.15183881e-05, -3.12275144e-05])"
      ]
     },
     "execution_count": 6,
     "metadata": {},
     "output_type": "execute_result"
    }
   ],
   "source": [
    "cam2tcp"
   ]
  },
  {
   "cell_type": "markdown",
   "metadata": {},
   "source": [
    "Save the camera and probe tip positions in TCP frame."
   ]
  },
  {
   "cell_type": "code",
   "execution_count": 15,
   "metadata": {},
   "outputs": [],
   "source": [
    "with open('../../config/pose_in_TCP_frame.yaml','w') as f:\n",
    "    yaml.safe_dump({'probe':probe2tcp.tolist(),'camera':cam2tcp.tolist()},f)"
   ]
  }
 ],
 "metadata": {
  "kernelspec": {
   "display_name": "MP",
   "language": "python",
   "name": "python3"
  },
  "language_info": {
   "codemirror_mode": {
    "name": "ipython",
    "version": 3
   },
   "file_extension": ".py",
   "mimetype": "text/x-python",
   "name": "python",
   "nbconvert_exporter": "python",
   "pygments_lexer": "ipython3",
   "version": "3.10.13"
  }
 },
 "nbformat": 4,
 "nbformat_minor": 2
}
