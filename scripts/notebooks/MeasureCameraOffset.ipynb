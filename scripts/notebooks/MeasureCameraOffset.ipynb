{
 "cells": [
  {
   "cell_type": "code",
   "execution_count": 1,
   "metadata": {},
   "outputs": [],
   "source": [
    "import rtde_control\n",
    "import rtde_receive\n",
    "import pyrealsense2 as rs\n",
    "import numpy as np\n",
    "import sys\n",
    "sys.path.append(\"../\")\n",
    "\n",
    "from SurfaceContact.move import move_default_pose\n",
    "from SurfaceContact.control import SurfaceContactControl\n",
    "\n",
    "%load_ext autoreload\n",
    "%autoreload 2"
   ]
  },
  {
   "cell_type": "code",
   "execution_count": 30,
   "metadata": {},
   "outputs": [
    {
     "ename": "RuntimeError",
     "evalue": "One of the RTDE input registers are already in use! Currently you must disable the EtherNet/IP adapter, PROFINET or any MODBUS unit configured on the robot. This might change in the future.",
     "output_type": "error",
     "traceback": [
      "\u001b[0;31m---------------------------------------------------------------------------\u001b[0m",
      "\u001b[0;31mRuntimeError\u001b[0m                              Traceback (most recent call last)",
      "\u001b[0;32m<ipython-input-30-5cd333977b70>\u001b[0m in \u001b[0;36m<module>\u001b[0;34m\u001b[0m\n\u001b[1;32m      1\u001b[0m \u001b[0;31m# from recording_upload_server import CaptureServer\u001b[0m\u001b[0;34m\u001b[0m\u001b[0;34m\u001b[0m\u001b[0;34m\u001b[0m\u001b[0m\n\u001b[1;32m      2\u001b[0m \u001b[0;34m\u001b[0m\u001b[0m\n\u001b[0;32m----> 3\u001b[0;31m \u001b[0mrtde_c\u001b[0m \u001b[0;34m=\u001b[0m \u001b[0mrtde_control\u001b[0m\u001b[0;34m.\u001b[0m\u001b[0mRTDEControlInterface\u001b[0m\u001b[0;34m(\u001b[0m\u001b[0;34m\"192.168.1.13\"\u001b[0m\u001b[0;34m)\u001b[0m\u001b[0;34m\u001b[0m\u001b[0;34m\u001b[0m\u001b[0m\n\u001b[0m\u001b[1;32m      4\u001b[0m \u001b[0mrtde_r\u001b[0m \u001b[0;34m=\u001b[0m \u001b[0mrtde_receive\u001b[0m\u001b[0;34m.\u001b[0m\u001b[0mRTDEReceiveInterface\u001b[0m\u001b[0;34m(\u001b[0m\u001b[0;34m\"192.168.1.13\"\u001b[0m\u001b[0;34m)\u001b[0m\u001b[0;34m\u001b[0m\u001b[0;34m\u001b[0m\u001b[0m\n\u001b[1;32m      5\u001b[0m \u001b[0;34m\u001b[0m\u001b[0m\n",
      "\u001b[0;31mRuntimeError\u001b[0m: One of the RTDE input registers are already in use! Currently you must disable the EtherNet/IP adapter, PROFINET or any MODBUS unit configured on the robot. This might change in the future."
     ]
    }
   ],
   "source": [
    "# from recording_upload_server import CaptureServer\n",
    "\n",
    "rtde_c = rtde_control.RTDEControlInterface(\"192.168.1.13\")\n",
    "rtde_r = rtde_receive.RTDEReceiveInterface(\"192.168.1.13\")\n",
    "\n"
   ]
  },
  {
   "cell_type": "markdown",
   "metadata": {},
   "source": [
    "Step 0: align the TCP coordinate axes with the base coordinate axes.\n",
    "\n",
    "On the teaching pendant, go to 'Move'. Set Rx=Ry=Rz=0rad. Select the green tick sign and move the robot to the target pose. \n",
    "\n",
    "During the offset measurement, maintain the orientation of the TCP unchanged.\n",
    "\n",
    "\n",
    "Step 1: remove the payload(the sleeve). Fix a target (ideally, something like a particle hang from a string) above the table.\n",
    "\n",
    "Step 2: use the teaching pendant, manually move the TCP so that its center touches the target position. Record the TCP pose below.\n"
   ]
  },
  {
   "cell_type": "code",
   "execution_count": 17,
   "metadata": {},
   "outputs": [],
   "source": [
    "\n",
    "TCP_cal_pose = rtde_r.getActualTCPPose()"
   ]
  },
  {
   "cell_type": "markdown",
   "metadata": {},
   "source": [
    "Step 3: reinstall the payload. Use the US probe tip to touch the target position. Record the corresponding TCP pose below."
   ]
  },
  {
   "cell_type": "code",
   "execution_count": 28,
   "metadata": {},
   "outputs": [],
   "source": [
    "probe_cal_pose =  rtde_r.getActualTCPPose()"
   ]
  },
  {
   "cell_type": "markdown",
   "metadata": {},
   "source": [
    "Step 4: Use the center of the camera to touch the target position. Record the corresponding TCP pose below."
   ]
  },
  {
   "cell_type": "code",
   "execution_count": 31,
   "metadata": {},
   "outputs": [],
   "source": [
    "camera_cal_pose =  rtde_r.getActualTCPPose()"
   ]
  },
  {
   "cell_type": "code",
   "execution_count": 33,
   "metadata": {},
   "outputs": [
    {
     "data": {
      "text/plain": [
       "([-0.12016209948070314,\n",
       "  -0.4557777864461379,\n",
       "  0.13542323585901994,\n",
       "  -0.7229113308945374,\n",
       "  -3.057238408448976,\n",
       "  0.00018226003540043918],\n",
       " [-0.11989142745077212,\n",
       "  -0.45476812166882447,\n",
       "  0.3025776964070097,\n",
       "  -2.198603765820915,\n",
       "  -2.2439485370708074,\n",
       "  -0.00016533106286859592],\n",
       " [-0.1832468131970479,\n",
       "  -0.4547392907251474,\n",
       "  0.19038082576047977,\n",
       "  -2.247534884500703,\n",
       "  2.1948690853198265,\n",
       "  0.0001940186552874728])"
      ]
     },
     "execution_count": 33,
     "metadata": {},
     "output_type": "execute_result"
    }
   ],
   "source": [
    "TCP_cal_pose, probe_cal_pose , camera_cal_pose"
   ]
  },
  {
   "cell_type": "markdown",
   "metadata": {},
   "source": [
    "Save the data in yaml format."
   ]
  },
  {
   "cell_type": "code",
   "execution_count": 36,
   "metadata": {},
   "outputs": [],
   "source": [
    "import yaml\n",
    "\n",
    "with open('../config/end_factor_poses.yaml','w') as f:\n",
    "    yaml.safe_dump({'TCP':TCP_cal_pose,'probe':probe_cal_pose,'camera':camera_cal_pose},f)"
   ]
  }
 ],
 "metadata": {
  "kernelspec": {
   "display_name": "realsense",
   "language": "python",
   "name": "python3"
  },
  "language_info": {
   "codemirror_mode": {
    "name": "ipython",
    "version": 3
   },
   "file_extension": ".py",
   "mimetype": "text/x-python",
   "name": "python",
   "nbconvert_exporter": "python",
   "pygments_lexer": "ipython3",
   "version": "3.6.13"
  },
  "orig_nbformat": 4
 },
 "nbformat": 4,
 "nbformat_minor": 2
}
