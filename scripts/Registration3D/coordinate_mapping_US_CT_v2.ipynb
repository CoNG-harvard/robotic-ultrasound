{
 "cells": [
  {
   "cell_type": "code",
   "execution_count": 2,
   "id": "b4bd6c78-6a12-4507-a6d2-de75e2d99448",
   "metadata": {},
   "outputs": [],
   "source": [
    "import argparse\n",
    "import sys\n",
    "from pathlib import Path\n",
    "\n",
    "import cv2\n",
    "\n",
    "# import nrrd\n",
    "import gc\n",
    "\n",
    "import numpy as np\n",
    "\n",
    "import os\n",
    "import SimpleITK as sitk\n",
    "from scipy.interpolate import RegularGridInterpolator\n",
    "\n",
    "import pydicom as dicom\n",
    "\n",
    "import matplotlib.pyplot as plt\n",
    "from scipy.ndimage import zoom\n",
    "from scipy import ndimage\n",
    "\n",
    "import glob\n",
    "\n",
    "# !pip install nibabel\n",
    "import nibabel as nib\n"
   ]
  },
  {
   "cell_type": "code",
   "execution_count": 3,
   "id": "cb2b0758-f230-46a7-b1e0-e267a4c8274d",
   "metadata": {},
   "outputs": [],
   "source": [
    "\n",
    "def interp3(x,y,z,img_org, xr,yr,zr):\n",
    "    \"\"\"resampling\"\"\"\n",
    "    \n",
    "    xi,yi,zi = np.meshgrid(xr, yr, zr, indexing='ij')\n",
    "    min_val = np.min(img_org)\n",
    "\n",
    "    interp = RegularGridInterpolator((x,y,z),img_org,bounds_error=False,fill_value=min_val)\n",
    "    img = interp( (xi,yi,zi)).astype(np.float32)\n",
    "    \n",
    "    return img\n",
    "\n",
    "\n",
    "def dicom2vol(path):\n",
    "    \"\"\"dicom folder to 3-D image\"\"\"\n",
    "    image_shape = []\n",
    "    path = str(path)\n",
    "    dicom_files = glob.glob(os.path.join(path,'**/*.dcm'), recursive = True)\n",
    "    if len(dicom_files) ==0:\n",
    "        dicom_files = glob.glob(os.path.join(path,'**/*.IMA'), recursive = True)\n",
    "    slices = [dicom.read_file(s, force=True) for s in dicom_files]\n",
    "    slices = sorted(slices,key=lambda x:x.ImagePositionPatient[2])\n",
    "    pixel_spacing = slices[0].PixelSpacing\n",
    "    slice_thickness = np.abs(slices[0].SliceLocation-slices[-1].SliceLocation)/np.float32(len(slices)-1.0)\n",
    "    \n",
    "    tmp_shape = list(slices[0].pixel_array.shape)\n",
    "    image_shape.append(len(slices))\n",
    "    image_shape.append(tmp_shape[0])\n",
    "    image_shape.append(tmp_shape[1])\n",
    "    \n",
    "    image_shape = np.array(image_shape).astype(np.int32)\n",
    "    \n",
    "    volume3d = np.zeros(image_shape)\n",
    "    for i,s in enumerate(slices):\n",
    "        array2d = s.pixel_array\n",
    "        volume3d[i] = array2d*s.RescaleSlope + s.RescaleIntercept\n",
    "\n",
    "    ## x,y,z -> z,y,x\n",
    "    volume3d = np.moveaxis(volume3d,0,-1)\n",
    "    volume3d = np.moveaxis(volume3d,0,1)\n",
    "    \n",
    "    image_res = [pixel_spacing[1], pixel_spacing[0], slice_thickness]\n",
    "\n",
    "        \n",
    "    return volume3d, image_res\n",
    "\n",
    "def dicom2nifty(path_dicom):\n",
    "    \n",
    "    volume3d, image_res = dicom2vol(path_dicom)\n",
    "    \n",
    "    affine_matrix = np.eye(4)\n",
    "    affine_matrix[0,0] = image_res[0]\n",
    "    affine_matrix[1,1] = image_res[1]\n",
    "    affine_matrix[2,2] = image_res[2]\n",
    "    \n",
    "    img = nib.Nifti1Image(volume3d[::-1,::-1,:], affine_matrix)\n",
    "    \n",
    "    nib.save(img,os.path.join(path_dicom + '_org.nii.gz'))\n",
    "    \n",
    "    return np.moveaxis(volume3d,0,1), image_res\n",
    "\n",
    "\n",
    "def centroid3(img):\n",
    "    nx, ny, nz = img.shape\n",
    "    # print(nx,ny,nz)\n",
    "    imgx = np.sum(np.sum(img, axis=1), axis=1)\n",
    "    imgy = np.sum(np.sum(img, axis=2), axis=0)\n",
    "    imgz = np.sum(np.sum(img, axis=0), axis=0)\n",
    "    denom = np.sum(np.sum(np.sum(img, axis=0), axis=0), axis=0)\n",
    "    cx = np.sum(np.linspace(0, nx-1, nx)*imgx)/denom\n",
    "    cy = np.sum(np.linspace(0, ny-1, ny)*imgy)/denom\n",
    "    cz = np.sum(np.linspace(0, nz-1, nz)*imgz)/denom\n",
    "    \n",
    "    return cx, cy, cz\n",
    "   "
   ]
  },
  {
   "cell_type": "code",
   "execution_count": 4,
   "id": "ae282175-a2fc-4643-b2ee-6e26ec49b527",
   "metadata": {},
   "outputs": [],
   "source": [
    "vessel_ct = sitk.ReadImage('vessel_ct.nii.gz')\n",
    "vessel_us = sitk.ReadImage('vessel_linear_scan_dense_25_us.nii')"
   ]
  },
  {
   "cell_type": "code",
   "execution_count": 5,
   "id": "99170968-7e5b-4ab9-b453-5041095ee2d9",
   "metadata": {},
   "outputs": [
    {
     "name": "stdout",
     "output_type": "stream",
     "text": [
      "(0.0, 0.0, 0.0)\n",
      "(0.0, 0.0, 0.0)\n"
     ]
    }
   ],
   "source": [
    "print(vessel_ct.GetOrigin())\n",
    "print(vessel_us.GetOrigin())"
   ]
  },
  {
   "cell_type": "code",
   "execution_count": 6,
   "id": "01789846-9d48-413c-a368-8158fc6269af",
   "metadata": {},
   "outputs": [],
   "source": [
    "## resampling reference size and resolution\n",
    "\n",
    "ref_dx, ref_dy, ref_dz = 1.0, 1.0, 1.0\n",
    "ref_nx, ref_ny, ref_nz = 384, 384, 384\n",
    "\n",
    "xr = (np.linspace(0, ref_nx-1, ref_nx) - (ref_nx-1)/2.0)*ref_dx\n",
    "yr = (np.linspace(0, ref_ny-1, ref_ny) - (ref_ny-1)/2.0)*ref_dy\n",
    "zr = (np.linspace(0, ref_nz-1, ref_nz) - (ref_nz-1)/2.0)*ref_dz"
   ]
  },
  {
   "cell_type": "code",
   "execution_count": 7,
   "id": "d905bd4f-432a-456d-8229-f919e10e0684",
   "metadata": {},
   "outputs": [],
   "source": [
    "ct_shape = vessel_ct.GetSize()\n",
    "ct_res = vessel_ct.GetSpacing()\n",
    "\n",
    "us_shape = vessel_us.GetSize()\n",
    "us_res = vessel_us.GetSpacing()"
   ]
  },
  {
   "cell_type": "code",
   "execution_count": 8,
   "id": "845c9faf-a7ba-4cbe-a640-30f232b4b2b6",
   "metadata": {},
   "outputs": [
    {
     "name": "stdout",
     "output_type": "stream",
     "text": [
      "(512, 512, 256)\n",
      "(0.699999988079071, 0.699999988079071, 0.699999988079071)\n",
      "(50, 1080, 500)\n",
      "(0.8059622049331665, 0.1875, 0.1875)\n"
     ]
    }
   ],
   "source": [
    "print(ct_shape)\n",
    "print(ct_res)\n",
    "print(us_shape)\n",
    "print(us_res)"
   ]
  },
  {
   "cell_type": "code",
   "execution_count": 9,
   "id": "20349ef7-eebe-489b-a809-3fe69419d751",
   "metadata": {},
   "outputs": [],
   "source": [
    "\n",
    "tmp_ct_img = (sitk.GetArrayFromImage(vessel_ct)).astype(np.float32)\n",
    "tmp_ct_img = np.moveaxis(tmp_ct_img, 2, 0)\n",
    "tmp_ct_img = np.moveaxis(tmp_ct_img, 2, 1)\n",
    "\n",
    "tmp_us_img = (sitk.GetArrayFromImage(vessel_us)).astype(np.float32)\n",
    "tmp_us_img = np.moveaxis(tmp_us_img, 2, 0)\n",
    "tmp_us_img = np.moveaxis(tmp_us_img, 2, 1)\n"
   ]
  },
  {
   "cell_type": "code",
   "execution_count": 10,
   "id": "80591537-714d-47d9-81ea-dfd4cc094b97",
   "metadata": {},
   "outputs": [
    {
     "name": "stdout",
     "output_type": "stream",
     "text": [
      "(512, 512, 256)\n",
      "(50, 1080, 500)\n"
     ]
    }
   ],
   "source": [
    "print(tmp_ct_img.shape)\n",
    "print(tmp_us_img.shape)"
   ]
  },
  {
   "cell_type": "code",
   "execution_count": 11,
   "id": "91bbe99b-235b-4ee8-a12a-35edb98e0321",
   "metadata": {},
   "outputs": [],
   "source": [
    "## resampling ct and ultrasound images\n",
    "\n",
    "x = (np.linspace(0, ct_shape[0]-1, ct_shape[0]) - (ct_shape[0]-1)/2.0)*ct_res[0]\n",
    "y = (np.linspace(0, ct_shape[1]-1, ct_shape[1]) - (ct_shape[1]-1)/2.0)*ct_res[1]\n",
    "z = (np.linspace(0, ct_shape[2]-1, ct_shape[2]) - (ct_shape[2]-1)/2.0)*ct_res[2]\n",
    "img_ct = interp3(x, y, z, tmp_ct_img, xr, yr, zr)\n",
    "img_ct = np.moveaxis(img_ct, 1, 2)\n",
    "img_ct = np.moveaxis(img_ct, 0, 2)\n",
    "\n",
    "x = (np.linspace(0, us_shape[0]-1, us_shape[0]) - (us_shape[0]-1)/2.0)*us_res[0]\n",
    "y = (np.linspace(0, us_shape[1]-1, us_shape[1]) - (us_shape[1]-1)/2.0)*us_res[1]\n",
    "z = (np.linspace(0, us_shape[2]-1, us_shape[2]) - (us_shape[2]-1)/2.0)*us_res[2]\n",
    "img_us = interp3(x, y, z, tmp_us_img, xr, yr, zr)\n",
    "img_us = np.moveaxis(img_us, 1, 2)\n",
    "img_us = np.moveaxis(img_us, 0, 2)"
   ]
  },
  {
   "cell_type": "code",
   "execution_count": null,
   "id": "95c0954e-e54b-4362-8d34-fdab2a14eea8",
   "metadata": {},
   "outputs": [],
   "source": []
  },
  {
   "cell_type": "code",
   "execution_count": 12,
   "id": "20748ea6-ee38-4e58-8d4a-2adfee0e0b5a",
   "metadata": {},
   "outputs": [],
   "source": [
    "# set the fixed image: CT\n",
    "fixed_image = sitk.GetImageFromArray(img_ct.astype(np.float32)) \n",
    "fixed_image.SetSpacing((ref_dx,ref_dy,ref_dz))\n",
    "sitk.WriteImage(fixed_image,'vessel_ct_resample.nii.gz')"
   ]
  },
  {
   "cell_type": "code",
   "execution_count": 13,
   "id": "23f0fb46-8170-45b9-b6e5-83d8dc3ea8cf",
   "metadata": {},
   "outputs": [],
   "source": [
    "# set the moving image: ultrasound\n",
    "\n",
    "# adjust to the same image shape and direction >> depending on the probe position: need to be fixed.\n",
    "img_us_move = np.moveaxis(img_us, 0, 2)\n",
    "img_us_move = np.moveaxis(img_us_move, 0, 1)\n",
    "img_us_move = img_us_move[::-1,:,::-1]\n",
    "\n",
    "moving_image = sitk.GetImageFromArray(img_us_move.astype(np.float32)) \n",
    "moving_image.SetSpacing((ref_dx,ref_dy,ref_dz))\n",
    "sitk.WriteImage(moving_image,'vessel_us_resample.nii.gz')"
   ]
  },
  {
   "cell_type": "code",
   "execution_count": null,
   "id": "77ed50de-2edc-4b8d-8429-61821aa6ba1b",
   "metadata": {},
   "outputs": [],
   "source": []
  },
  {
   "cell_type": "code",
   "execution_count": 14,
   "id": "a90af891-2c1c-4f71-885d-7bbde0f47b0d",
   "metadata": {},
   "outputs": [
    {
     "name": "stdout",
     "output_type": "stream",
     "text": [
      "Coordinate difference:\t (diff_x, diff_y, diff_z) = (-8, 24, 25)\n",
      "Resolution: \t\t (res_x, res_y, res_z) = (1.00, 1.00, 1.00)\n"
     ]
    }
   ],
   "source": [
    "# First, we calculate the centroid and move (=attach) ultrasound image to ct image\n",
    "\n",
    "cx_us, cy_us, cz_us = np.round(centroid3(np.squeeze(img_us_move))).astype(np.int32)\n",
    "cx_ct, cy_ct, cz_ct = np.round(centroid3(np.squeeze(img_ct))).astype(np.int32)\n",
    "diff_x = cx_us-cx_ct\n",
    "diff_y = cy_us-cy_ct\n",
    "diff_z = cz_us-cz_ct\n",
    "print(\"Coordinate difference:\\t (diff_x, diff_y, diff_z) = (%d, %d, %d)\"%(diff_x, diff_y, diff_z))\n",
    "print(\"Resolution: \\t\\t (res_x, res_y, res_z) = (%.2f, %.2f, %.2f)\"%(ref_dx,ref_dy,ref_dz))"
   ]
  },
  {
   "cell_type": "code",
   "execution_count": 15,
   "id": "58aa600b-863b-4bcc-b5e8-6a484a75e23c",
   "metadata": {},
   "outputs": [],
   "source": [
    "# Usually vessel images are apart from each other. \n",
    "# Move the ultrasound image using centroid: now ultrasound and ct vessels are close, which is good for the rigid registration. \n",
    "\n",
    "img_us_move_centroid = interp3((xr-diff_x), (yr-diff_y), (zr-diff_z), img_us_move, xr, yr, zr)"
   ]
  },
  {
   "cell_type": "code",
   "execution_count": null,
   "id": "022182f2-71da-47cc-b456-41d0e2414d76",
   "metadata": {},
   "outputs": [],
   "source": []
  },
  {
   "cell_type": "code",
   "execution_count": 16,
   "id": "5de866b9-abb4-433c-a1ca-69d33200cea4",
   "metadata": {},
   "outputs": [],
   "source": [
    "moving_image = sitk.GetImageFromArray(img_us_move_centroid.astype(np.float32)) \n",
    "moving_image.SetSpacing((ref_dx,ref_dy,ref_dz))\n"
   ]
  },
  {
   "cell_type": "code",
   "execution_count": 17,
   "id": "7d2e5564-ec49-48a1-85af-503b8a67686a",
   "metadata": {},
   "outputs": [],
   "source": [
    "## https://simpleitk.org/SPIE2019_COURSE/04_basic_registration.html\n",
    "\n",
    "initial_transform = sitk.CenteredTransformInitializer(fixed_image, \n",
    "                                                      moving_image, \n",
    "                                                      sitk.Euler3DTransform(), \n",
    "                                                      sitk.CenteredTransformInitializerFilter.GEOMETRY)"
   ]
  },
  {
   "cell_type": "code",
   "execution_count": 18,
   "id": "d738ade8-6249-4b7f-9fbb-8fcacbabc98c",
   "metadata": {},
   "outputs": [],
   "source": [
    "num_iter = 2\n",
    "for ii in range(num_iter):\n",
    "    registration_method = sitk.ImageRegistrationMethod()\n",
    "    registration_method.SetMetricAsMattesMutualInformation(numberOfHistogramBins=20)\n",
    "    registration_method.SetMetricSamplingStrategy(registration_method.REGULAR )\n",
    "    registration_method.SetMetricSamplingPercentage(0.2)    \n",
    "    registration_method.SetInterpolator(sitk.sitkNearestNeighbor)\n",
    "    registration_method.SetOptimizerAsGradientDescent(learningRate=1.0, numberOfIterations=30, convergenceMinimumValue=1e-7, convergenceWindowSize=10)\n",
    "    registration_method.SetOptimizerScalesFromPhysicalShift()\n",
    "    \n",
    "    # Setup for the multi-resolution framework.            \n",
    "    # registration_method.SetShrinkFactorsPerLevel(shrinkFactors = [4,2,1])\n",
    "    # registration_method.SetSmoothingSigmasPerLevel(smoothingSigmas=[2,1,0])\n",
    "    # registration_method.SmoothingSigmasAreSpecifiedInPhysicalUnitsOn()\n",
    "    \n",
    "    # Don't optimize in-place. We want to run this cell multiple times.\n",
    "    registration_method.SetInitialTransform(initial_transform, inPlace=False)\n",
    "    \n",
    "    rigid_transform = registration_method.Execute(fixed_image, moving_image)"
   ]
  },
  {
   "cell_type": "code",
   "execution_count": 19,
   "id": "e545bf7a-dcee-436e-b0bf-ff00d9f2b244",
   "metadata": {},
   "outputs": [
    {
     "name": "stdout",
     "output_type": "stream",
     "text": [
      "itk::simple::CompositeTransform\n",
      " CompositeTransform (0x15c67ccd0)\n",
      "   RTTI typeinfo:   itk::CompositeTransform<double, 3u>\n",
      "   Reference Count: 1\n",
      "   Modified Time: 45307254\n",
      "   Debug: Off\n",
      "   Object Name: \n",
      "   Observers: \n",
      "     none\n",
      "   Transforms in queue, from begin to end:\n",
      "   >>>>>>>>>\n",
      "   Euler3DTransform (0x17f7e4cf0)\n",
      "     RTTI typeinfo:   itk::Euler3DTransform<double>\n",
      "     Reference Count: 1\n",
      "     Modified Time: 45307100\n",
      "     Debug: Off\n",
      "     Object Name: \n",
      "     Observers: \n",
      "       none\n",
      "     Matrix: \n",
      "       0.999967 -0.0080982 0.000933316 \n",
      "       0.00809943 0.999966 -0.00131599 \n",
      "       -0.000922628 0.0013235 0.999999 \n",
      "     Offset: [12.2465, -1.88895, -1.17481]\n",
      "     Center: [191.5, 191.5, 191.5]\n",
      "     Translation: [10.8681, -0.596365, -1.09829]\n",
      "     Inverse: \n",
      "       0.999967 0.00809943 -0.000922628 \n",
      "       -0.0080982 0.999966 0.0013235 \n",
      "       0.000933316 -0.00131599 0.999999 \n",
      "     Singular: 0\n",
      "     Euler's angles: AngleX=0.0013235 AngleY=0.000922629 AngleZ=0.0080983\n",
      "     m_ComputeZYX = 0\n",
      "   End of MultiTransform.\n",
      "<<<<<<<<<<\n",
      "   TransformsToOptimizeFlags, begin() to end(): \n",
      "      1 \n",
      "   TransformsToOptimize in queue, from begin to end:\n",
      "   End of TransformsToOptimizeQueue.\n",
      "<<<<<<<<<<\n",
      "   End of CompositeTransform.\n",
      "<<<<<<<<<<\n",
      "\n"
     ]
    }
   ],
   "source": [
    "print(rigid_transform)"
   ]
  },
  {
   "cell_type": "code",
   "execution_count": 20,
   "id": "628cc605-8b7a-47d9-87e3-242d4d7998c5",
   "metadata": {},
   "outputs": [],
   "source": [
    "moving_reg = sitk.Resample(moving_image, fixed_image, rigid_transform, sitk.sitkLinear, 0.0, moving_image.GetPixelID())\n",
    "sitk.WriteImage(moving_reg,'vessel_reg.nii.gz')"
   ]
  },
  {
   "cell_type": "code",
   "execution_count": 21,
   "id": "3211cd51-dab0-450c-889e-9f4c60067178",
   "metadata": {},
   "outputs": [
    {
     "data": {
      "text/plain": [
       "<matplotlib.image.AxesImage at 0x2d8413940>"
      ]
     },
     "execution_count": 21,
     "metadata": {},
     "output_type": "execute_result"
    },
    {
     "data": {
      "image/png": "[encoded data removed]",
      "text/plain": [
       "<Figure size 800x600 with 6 Axes>"
      ]
     },
     "metadata": {},
     "output_type": "display_data"
    }
   ],
   "source": [
    "img_ct_final = (sitk.GetArrayFromImage(fixed_image)).astype(np.float32)\n",
    "img_us_final = (sitk.GetArrayFromImage(moving_reg)).astype(np.float32)\n",
    "\n",
    "cz_ct, cx_ct, cy_ct = np.round(centroid3(np.squeeze(img_ct_final))).astype(np.int32)\n",
    "\n",
    "plt.figure(figsize=(8, 6))\n",
    "plt.subplot(2, 3, 1)\n",
    "plt.title('ct image: x-y')\n",
    "plt.imshow(np.squeeze(img_ct_final[cz_ct]))\n",
    "plt.subplot(2, 3, 2)\n",
    "plt.title('ct image: y-z')\n",
    "plt.imshow(np.squeeze(img_ct_final[:,cx_ct,:]))\n",
    "plt.subplot(2, 3, 3)\n",
    "plt.title('ct image: x-z')\n",
    "plt.imshow(np.squeeze(img_ct_final[:,:,cy_ct]))\n",
    "plt.subplot(2, 3, 4)\n",
    "plt.title('us image: x-y')\n",
    "plt.imshow(np.squeeze(img_us_final[cz_ct]))\n",
    "plt.subplot(2, 3, 5)\n",
    "plt.title('us image: y-z')\n",
    "plt.imshow(np.squeeze(img_us_final[:,cx_ct,:]))\n",
    "plt.subplot(2, 3, 6)\n",
    "plt.title('us image: x-z')\n",
    "plt.imshow(np.squeeze(img_us_final[:,:,cy_ct]))"
   ]
  },
  {
   "cell_type": "code",
   "execution_count": null,
   "id": "159c94d0-18c4-46c7-ba1e-b266ea1f9f66",
   "metadata": {},
   "outputs": [],
   "source": []
  },
  {
   "cell_type": "code",
   "execution_count": null,
   "id": "aaf3ff06-63a2-41e0-8dc5-6fa15d5c6c23",
   "metadata": {},
   "outputs": [],
   "source": []
  }
 ],
 "metadata": {
  "kernelspec": {
   "display_name": "Python 3 (ipykernel)",
   "language": "python",
   "name": "python3"
  },
  "language_info": {
   "codemirror_mode": {
    "name": "ipython",
    "version": 3
   },
   "file_extension": ".py",
   "mimetype": "text/x-python",
   "name": "python",
   "nbconvert_exporter": "python",
   "pygments_lexer": "ipython3",
   "version": "3.10.13"
  }
 },
 "nbformat": 4,
 "nbformat_minor": 5
}
