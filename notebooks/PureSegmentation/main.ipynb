{
 "cells": [
  {
   "cell_type": "code",
   "execution_count": 1,
   "metadata": {},
   "outputs": [],
   "source": [
    "import numpy as np\n",
    "import sys\n",
    "from matplotlib import pyplot as plt\n",
    "import SimpleITK as sitk\n",
    "\n",
    "import torch\n",
    "\n",
    "\n",
    "\n",
    "sys.path.append(\"../../\")\n",
    "\n",
    "from scripts.USImageCV.utils.bunny import bunny_mask_predict, load_bunny_model\n",
    "\n",
    " \n",
    "\n",
    "%load_ext autoreload\n",
    "%autoreload 2"
   ]
  },
  {
   "cell_type": "markdown",
   "metadata": {},
   "source": [
    "# Load pre-trained segmentation model"
   ]
  },
  {
   "cell_type": "code",
   "execution_count": 2,
   "metadata": {},
   "outputs": [],
   "source": [
    "\n",
    "device = 'cuda' if torch.cuda.is_available() else 'cpu'\n",
    "\n",
    "trunk_model = load_bunny_model('./model/branching_point_model.pth',device)\n",
    "# vessel_model = load_bunny_model('../../scripts/USImageCV/model_weights/vessel_model.pth',device)"
   ]
  },
  {
   "cell_type": "code",
   "execution_count": 44,
   "metadata": {},
   "outputs": [],
   "source": [
    "for img_idx in range(10):\n",
    "    print(img_idx)\n",
    "    img = sitk.ReadImage('./data/img_{}.nii.gz'.format(img_idx))\n",
    "    spacing, origin = img.GetSpacing(),img.GetSpacing()\n",
    "    img = sitk.GetArrayFromImage(img)\n",
    "\n",
    "    masks = []\n",
    "    for i in range(len(img)):\n",
    "        frame = img[i]\n",
    "        masks.append(bunny_mask_predict(trunk_model,frame,device))\n",
    "    masks = np.array(masks)\n",
    "\n",
    "\n",
    "    pred = sitk.GetImageFromArray(masks)\n",
    "    pred.SetSpacing(spacing)\n",
    "    pred.SetOrigin(origin)\n",
    "    sitk.WriteImage(pred,'./data/branching-point/Branching_prediction_{}.nrrd'.format(img_idx))\n"
   ]
  }
 ],
 "metadata": {
  "kernelspec": {
   "display_name": "realsense",
   "language": "python",
   "name": "python3"
  },
  "language_info": {
   "codemirror_mode": {
    "name": "ipython",
    "version": 3
   },
   "file_extension": ".py",
   "mimetype": "text/x-python",
   "name": "python",
   "nbconvert_exporter": "python",
   "pygments_lexer": "ipython3",
   "version": "3.10.13"
  },
  "orig_nbformat": 4
 },
 "nbformat": 4,
 "nbformat_minor": 2
}
