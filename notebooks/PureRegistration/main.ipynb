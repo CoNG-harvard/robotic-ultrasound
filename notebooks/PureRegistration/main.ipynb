{
 "cells": [
  {
   "cell_type": "code",
   "execution_count": 2,
   "metadata": {},
   "outputs": [
    {
     "name": "stdout",
     "output_type": "stream",
     "text": [
      "The autoreload extension is already loaded. To reload it, use:\n",
      "  %reload_ext autoreload\n"
     ]
    }
   ],
   "source": [
    "\n",
    "import numpy as np\n",
    "import sys\n",
    "from matplotlib import pyplot as plt\n",
    "import SimpleITK as sitk\n",
    "import pickle as pkl\n",
    "\n",
    "import os\n",
    "\n",
    "\n",
    "\n",
    "sys.path.append(\"../\")\n",
    "\n",
    "sys.path.append(\"../../\")\n",
    "\n",
    "from scripts.Registration3D.registration import central_normalize_img, calculate_ct2us_transform\n",
    "\n",
    "from scripts.segmentation_metrics import precision, recall, dice\n",
    "\n",
    "from UltrasoundNavigation.img_utils import flip_img\n",
    "\n",
    "\n",
    "%load_ext autoreload\n",
    "%autoreload 2"
   ]
  },
  {
   "cell_type": "markdown",
   "metadata": {},
   "source": [
    "# 3D Registration between US and CT"
   ]
  },
  {
   "cell_type": "code",
   "execution_count": 26,
   "metadata": {},
   "outputs": [
    {
     "name": "stdout",
     "output_type": "stream",
     "text": [
      "[Errno 17] File exists: 'results'\n",
      "Start optimizing the transformation\n"
     ]
    },
    {
     "name": "stderr",
     "output_type": "stream",
     "text": [
      "100%|██████████| 2/2 [00:02<00:00,  1.06s/it]\n"
     ]
    },
    {
     "name": "stdout",
     "output_type": "stream",
     "text": [
      "[Errno 17] File exists: './results/0'\n",
      "Start optimizing the transformation\n"
     ]
    },
    {
     "name": "stderr",
     "output_type": "stream",
     "text": [
      "100%|██████████| 2/2 [00:02<00:00,  1.27s/it]\n"
     ]
    },
    {
     "name": "stdout",
     "output_type": "stream",
     "text": [
      "[Errno 17] File exists: './results/1'\n",
      "Start optimizing the transformation\n"
     ]
    },
    {
     "name": "stderr",
     "output_type": "stream",
     "text": [
      "100%|██████████| 2/2 [00:01<00:00,  1.10it/s]\n"
     ]
    },
    {
     "name": "stdout",
     "output_type": "stream",
     "text": [
      "[Errno 17] File exists: './results/2'\n",
      "Start optimizing the transformation\n"
     ]
    },
    {
     "name": "stderr",
     "output_type": "stream",
     "text": [
      "100%|██████████| 2/2 [00:01<00:00,  1.31it/s]\n"
     ]
    },
    {
     "name": "stdout",
     "output_type": "stream",
     "text": [
      "[Errno 17] File exists: './results/3'\n",
      "Start optimizing the transformation\n"
     ]
    },
    {
     "name": "stderr",
     "output_type": "stream",
     "text": [
      "100%|██████████| 2/2 [00:01<00:00,  1.13it/s]\n"
     ]
    },
    {
     "name": "stdout",
     "output_type": "stream",
     "text": [
      "[Errno 17] File exists: './results/4'\n",
      "Start optimizing the transformation\n"
     ]
    },
    {
     "name": "stderr",
     "output_type": "stream",
     "text": [
      "100%|██████████| 2/2 [00:01<00:00,  1.22it/s]\n"
     ]
    },
    {
     "name": "stdout",
     "output_type": "stream",
     "text": [
      "[Errno 17] File exists: './results/5'\n",
      "Start optimizing the transformation\n"
     ]
    },
    {
     "name": "stderr",
     "output_type": "stream",
     "text": [
      "100%|██████████| 2/2 [00:01<00:00,  1.27it/s]\n"
     ]
    },
    {
     "name": "stdout",
     "output_type": "stream",
     "text": [
      "[Errno 17] File exists: './results/6'\n",
      "Start optimizing the transformation\n"
     ]
    },
    {
     "name": "stderr",
     "output_type": "stream",
     "text": [
      "100%|██████████| 2/2 [00:01<00:00,  1.39it/s]\n"
     ]
    },
    {
     "name": "stdout",
     "output_type": "stream",
     "text": [
      "[Errno 17] File exists: './results/7'\n",
      "Start optimizing the transformation\n"
     ]
    },
    {
     "name": "stderr",
     "output_type": "stream",
     "text": [
      "100%|██████████| 2/2 [00:01<00:00,  1.11it/s]\n"
     ]
    },
    {
     "name": "stdout",
     "output_type": "stream",
     "text": [
      "[Errno 17] File exists: './results/8'\n",
      "Start optimizing the transformation\n"
     ]
    },
    {
     "name": "stderr",
     "output_type": "stream",
     "text": [
      "100%|██████████| 2/2 [00:01<00:00,  1.16it/s]\n"
     ]
    },
    {
     "name": "stdout",
     "output_type": "stream",
     "text": [
      "[Errno 17] File exists: './results/9'\n"
     ]
    }
   ],
   "source": [
    "import random\n",
    "\n",
    "random.seed(10)\n",
    "np.random.seed(17)\n",
    "\n",
    "original_vessel_ct = sitk.ReadImage('./data/vessel_ct.nii.gz')\n",
    "# The left-right order is different between the US image and CT image. We flip vessel_ct to make them consistent.\n",
    "original_vessel_ct = flip_img(original_vessel_ct,[True,False,False])\n",
    "vessel_ct = central_normalize_img(original_vessel_ct,150)\n",
    "\n",
    "pre_stats = []\n",
    "post_stats = []\n",
    "try:\n",
    "    os.mkdir('results')\n",
    "except OSError as error:\n",
    "    print(error)\n",
    "\n",
    "\n",
    "for us_idx in range(10):\n",
    "# for us_idx in range(1):\n",
    "    original_vessel_us = sitk.ReadImage('./data/prediction_{}.seg.nrrd'.format(us_idx))\n",
    "    vessel_us = central_normalize_img(original_vessel_us,150)\n",
    "\n",
    "    CT2US, Hp, Hg, Hreg = calculate_ct2us_transform(vessel_us,vessel_ct)\n",
    "\n",
    "    output_folder = './results/{}'.format(us_idx)\n",
    "    try:\n",
    "        os.mkdir(output_folder)\n",
    "    except OSError as error:\n",
    "        print(error)\n",
    "        \n",
    "    \n",
    "    sitk.WriteImage(Hp,output_folder+'/shifted_us.nii.gz')\n",
    "    sitk.WriteImage(Hg,output_folder+'/resampled_CT.nii.gz')\n",
    "    sitk.WriteImage(Hreg,output_folder+'/vessel_reg.nii.gz')\n",
    "\n",
    "    with open(output_folder+'/transformation.pkl','wb') as fp:\n",
    "        pkl.dump(CT2US,fp)\n",
    "\n",
    "    hp = sitk.GetArrayFromImage(Hp)>0.5\n",
    "    hg = sitk.GetArrayFromImage(Hg)>0.5\n",
    "    hr = sitk.GetArrayFromImage(Hreg)>0.5\n",
    "\n",
    "    pre_stats.append((precision(hp,hg), recall(hp,hg), dice(hp,hg)))\n",
    "    post_stats.append((precision(hr,hg), recall(hr,hg), dice(hr,hg)))\n",
    "    "
   ]
  },
  {
   "cell_type": "code",
   "execution_count": 27,
   "metadata": {},
   "outputs": [],
   "source": [
    "with open('results/stats.pkl','wb') as fp:\n",
    "    pkl.dump({\"pre_stats\":pre_stats,\"post_stats\":post_stats},fp)"
   ]
  },
  {
   "cell_type": "code",
   "execution_count": 28,
   "metadata": {},
   "outputs": [
    {
     "data": {
      "image/png": "[encoded data removed]",
      "text/plain": [
       "<Figure size 1600x500 with 3 Axes>"
      ]
     },
     "metadata": {},
     "output_type": "display_data"
    }
   ],
   "source": [
    "metric_name = ['3D Precision','3D Recall','3D Dice']\n",
    "\n",
    "plt.rc('font',size=26)\n",
    "fig,axes = plt.subplots(1,3,figsize=(16,5),sharey=True)\n",
    "legend_plot = 1\n",
    "for i in range(3):\n",
    "    ax = axes[i]\n",
    "    pre_precision = [p[i] for p in pre_stats]\n",
    "\n",
    "    post_precision = [p[i] for p in post_stats]\n",
    "\n",
    "    width = 0.3\n",
    "\n",
    "    ax.bar(np.arange(1,11)-width/2, pre_precision,width,label='Before Mapping' if i==legend_plot else None)\n",
    "\n",
    "    ax.bar(np.arange(1,11)+width/2, post_precision,width,label='After Mapping' if i==legend_plot else None)\n",
    "    ax.set_xticks(np.arange(1,11))\n",
    "    ax.yaxis.grid('on')\n",
    "    if i==legend_plot:\n",
    "        ax.legend()\n",
    "    ax.set_title(metric_name[i])\n",
    "    ax.set_xlabel('Trial No.')\n",
    "plt.tight_layout(pad=0.1)\n",
    "plt.savefig('./figures/registration_metric.png')\n",
    "plt.show()"
   ]
  },
  {
   "cell_type": "code",
   "execution_count": 29,
   "metadata": {},
   "outputs": [],
   "source": [
    "pre_stats = np.array(pre_stats)\n",
    "post_stats = np.array(post_stats)\n",
    "\n",
    "pre_mean = np.mean(pre_stats,axis=0)\n",
    "post_mean = np.mean(post_stats,axis=0)"
   ]
  },
  {
   "cell_type": "code",
   "execution_count": 30,
   "metadata": {},
   "outputs": [
    {
     "data": {
      "text/plain": [
       "(array([0.3668989 , 0.23516283, 0.28657476]),\n",
       " array([0.63283829, 0.40076862, 0.49067968]),\n",
       " array([0.26593939, 0.16560578, 0.20410492]))"
      ]
     },
     "execution_count": 30,
     "metadata": {},
     "output_type": "execute_result"
    }
   ],
   "source": [
    "pre_mean,post_mean,post_mean-pre_mean"
   ]
  },
  {
   "cell_type": "code",
   "execution_count": 10,
   "metadata": {},
   "outputs": [
    {
     "name": "stdout",
     "output_type": "stream",
     "text": [
      "itk::simple::CompositeTransform\n",
      " CompositeTransform (0x13a2198d0)\n",
      "   RTTI typeinfo:   itk::CompositeTransform<double, 3u>\n",
      "   Reference Count: 1\n",
      "   Modified Time: 13532966\n",
      "   Debug: Off\n",
      "   Object Name: \n",
      "   Observers: \n",
      "     none\n",
      "   Transforms in queue, from begin to end:\n",
      "   >>>>>>>>>\n",
      "   TranslationTransform (0x13a20e3f0)\n",
      "     RTTI typeinfo:   itk::TranslationTransform<double, 3u>\n",
      "     Reference Count: 1\n",
      "     Modified Time: 3865\n",
      "     Debug: Off\n",
      "     Object Name: \n",
      "     Observers: \n",
      "       none\n",
      "     Offset: [-159.362, -56.8273, -71.171]\n",
      "   >>>>>>>>>\n",
      "   CompositeTransform (0x14af07290)\n",
      "     RTTI typeinfo:   itk::CompositeTransform<double, 3u>\n",
      "     Reference Count: 1\n",
      "     Modified Time: 13532962\n",
      "     Debug: Off\n",
      "     Object Name: \n",
      "     Observers: \n",
      "       none\n",
      "     Transforms in queue, from begin to end:\n",
      "     >>>>>>>>>\n",
      "     Euler3DTransform (0x14af0e880)\n",
      "       RTTI typeinfo:   itk::Euler3DTransform<double>\n",
      "       Reference Count: 1\n",
      "       Modified Time: 13532960\n",
      "       Debug: Off\n",
      "       Object Name: \n",
      "       Observers: \n",
      "         none\n",
      "       Matrix: \n",
      "         0.999554 0.0146345 0.0260333 \n",
      "         -0.0144167 0.99986 -0.00853724 \n",
      "         -0.0261546 0.00815812 0.999625 \n",
      "       Offset: [-16.1655, 1.27985, 8.27769]\n",
      "       Center: [196.498, 141.494, 96.6002]\n",
      "       Translation: [-11.6676, -2.39756, 4.25642]\n",
      "       Inverse: \n",
      "         0.999554 -0.0144167 -0.0261546 \n",
      "         0.0146345 0.99986 0.00815812 \n",
      "         0.0260333 -0.00853724 0.999625 \n",
      "       Singular: 0\n",
      "       Euler's angles: AngleX=0.00815821 AngleY=0.0261585 AngleZ=-0.0146355\n",
      "       m_ComputeZYX = 0\n",
      "     End of MultiTransform.\n",
      "<<<<<<<<<<\n",
      "     TransformsToOptimizeFlags, begin() to end(): \n",
      "          1 \n",
      "     TransformsToOptimize in queue, from begin to end:\n",
      "     End of TransformsToOptimizeQueue.\n",
      "<<<<<<<<<<\n",
      "     End of CompositeTransform.\n",
      "<<<<<<<<<<\n",
      "   End of MultiTransform.\n",
      "<<<<<<<<<<\n",
      "   TransformsToOptimizeFlags, begin() to end(): \n",
      "      0 1 \n",
      "   TransformsToOptimize in queue, from begin to end:\n",
      "   End of TransformsToOptimizeQueue.\n",
      "<<<<<<<<<<\n",
      "   End of CompositeTransform.\n",
      "<<<<<<<<<<\n",
      "\n"
     ]
    }
   ],
   "source": [
    "print(CT2US)"
   ]
  },
  {
   "cell_type": "code",
   "execution_count": 39,
   "metadata": {},
   "outputs": [],
   "source": [
    "with open('./data/CT2US.pkl','wb') as fp:\n",
    "    pkl.dump(CT2US,fp)"
   ]
  },
  {
   "cell_type": "code",
   "execution_count": 40,
   "metadata": {},
   "outputs": [],
   "source": [
    "with open('./data/CT2US.pkl','rb') as fp:\n",
    "    CT2US = pkl.load(fp)"
   ]
  }
 ],
 "metadata": {
  "kernelspec": {
   "display_name": "realsense",
   "language": "python",
   "name": "python3"
  },
  "language_info": {
   "codemirror_mode": {
    "name": "ipython",
    "version": 3
   },
   "file_extension": ".py",
   "mimetype": "text/x-python",
   "name": "python",
   "nbconvert_exporter": "python",
   "pygments_lexer": "ipython3",
   "version": "3.10.13"
  },
  "orig_nbformat": 4
 },
 "nbformat": 4,
 "nbformat_minor": 2
}
