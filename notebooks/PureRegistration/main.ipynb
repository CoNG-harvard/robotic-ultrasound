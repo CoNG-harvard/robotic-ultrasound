{
 "cells": [
  {
   "cell_type": "code",
   "execution_count": 2,
   "metadata": {},
   "outputs": [],
   "source": [
    "\n",
    "import numpy as np\n",
    "import sys\n",
    "import yaml\n",
    "from matplotlib import pyplot as plt\n",
    "import SimpleITK as sitk\n",
    "import pickle as pkl\n",
    "\n",
    "\n",
    "\n",
    "\n",
    "\n",
    "sys.path.append(\"../\")\n",
    "\n",
    "sys.path.append(\"../../\")\n",
    "\n",
    "from scripts.Registration3D.registration import central_normalize_img, calculate_ct2us_transform\n",
    "\n",
    "\n",
    "from UltrasoundNavigation.img_utils import flip_img\n",
    "\n",
    "\n",
    "%load_ext autoreload\n",
    "%autoreload 2"
   ]
  },
  {
   "cell_type": "markdown",
   "metadata": {},
   "source": [
    "# 3D Registration between US and CT"
   ]
  },
  {
   "cell_type": "code",
   "execution_count": null,
   "metadata": {},
   "outputs": [],
   "source": [
    "def precision(hp,hg):\n",
    "    '''\n",
    "        hp: binary array. The predicted segmentation.\n",
    "        hg: binary array. The ground truth segmentation.\n",
    "\n",
    "        Output: the precision value given prediction hp against ground truth hg\n",
    "    '''\n",
    "    return np.sum(np.logical_and(hp,hg))/np.sum(hp)\n",
    "\n",
    "def recall(hp,hg):\n",
    "    '''\n",
    "        hp: binary array. The predicted segmentation.\n",
    "        hg: binary array. The ground truth segmentation.\n",
    "\n",
    "        Output: the recall value given prediction hp against ground truth hg\n",
    "    '''\n",
    "    return np.sum(np.logical_and(hp,hg))/np.sum(hg)\n",
    "\n",
    "def dice(hp,hg):\n",
    "    '''\n",
    "        hp: binary array. The predicted segmentation.\n",
    "        hg: binary array. The ground truth segmentation.\n",
    "\n",
    "        Output: the dice value given prediction hp against ground truth hg\n",
    "    '''\n",
    "    return 2*np.sum(np.logical_and(hp,hg))/(np.sum(hg)+np.sum(hp))\n",
    "\n"
   ]
  },
  {
   "cell_type": "code",
   "execution_count": 41,
   "metadata": {},
   "outputs": [
    {
     "name": "stdout",
     "output_type": "stream",
     "text": [
      "Start optimizing the transformation\n"
     ]
    },
    {
     "name": "stderr",
     "output_type": "stream",
     "text": [
      "100%|██████████| 10/10 [00:12<00:00,  1.27s/it]\n"
     ]
    },
    {
     "name": "stdout",
     "output_type": "stream",
     "text": [
      "Start optimizing the transformation\n"
     ]
    },
    {
     "name": "stderr",
     "output_type": "stream",
     "text": [
      "100%|██████████| 10/10 [00:17<00:00,  1.73s/it]\n"
     ]
    },
    {
     "name": "stdout",
     "output_type": "stream",
     "text": [
      "Start optimizing the transformation\n"
     ]
    },
    {
     "name": "stderr",
     "output_type": "stream",
     "text": [
      "100%|██████████| 10/10 [00:15<00:00,  1.56s/it]\n"
     ]
    },
    {
     "name": "stdout",
     "output_type": "stream",
     "text": [
      "Start optimizing the transformation\n"
     ]
    },
    {
     "name": "stderr",
     "output_type": "stream",
     "text": [
      "100%|██████████| 10/10 [00:12<00:00,  1.21s/it]\n"
     ]
    },
    {
     "name": "stdout",
     "output_type": "stream",
     "text": [
      "Start optimizing the transformation\n"
     ]
    },
    {
     "name": "stderr",
     "output_type": "stream",
     "text": [
      "100%|██████████| 10/10 [00:11<00:00,  1.13s/it]\n"
     ]
    },
    {
     "name": "stdout",
     "output_type": "stream",
     "text": [
      "Start optimizing the transformation\n"
     ]
    },
    {
     "name": "stderr",
     "output_type": "stream",
     "text": [
      "100%|██████████| 10/10 [00:11<00:00,  1.15s/it]\n"
     ]
    },
    {
     "name": "stdout",
     "output_type": "stream",
     "text": [
      "Start optimizing the transformation\n"
     ]
    },
    {
     "name": "stderr",
     "output_type": "stream",
     "text": [
      "100%|██████████| 10/10 [00:12<00:00,  1.24s/it]\n"
     ]
    },
    {
     "name": "stdout",
     "output_type": "stream",
     "text": [
      "Start optimizing the transformation\n"
     ]
    },
    {
     "name": "stderr",
     "output_type": "stream",
     "text": [
      "100%|██████████| 10/10 [00:11<00:00,  1.15s/it]\n"
     ]
    },
    {
     "name": "stdout",
     "output_type": "stream",
     "text": [
      "Start optimizing the transformation\n"
     ]
    },
    {
     "name": "stderr",
     "output_type": "stream",
     "text": [
      "100%|██████████| 10/10 [00:15<00:00,  1.54s/it]\n"
     ]
    },
    {
     "name": "stdout",
     "output_type": "stream",
     "text": [
      "Start optimizing the transformation\n"
     ]
    },
    {
     "name": "stderr",
     "output_type": "stream",
     "text": [
      "100%|██████████| 10/10 [00:13<00:00,  1.36s/it]\n"
     ]
    }
   ],
   "source": [
    "\n",
    "\n",
    "original_vessel_ct = sitk.ReadImage('./data/vessel_ct.nii.gz')\n",
    "# The left-right order is different between the US image and CT image. We flip vessel_ct to make them consistent.\n",
    "original_vessel_ct = flip_img(original_vessel_ct,[True,False,False])\n",
    "vessel_ct = central_normalize_img(original_vessel_ct,150)\n",
    "\n",
    "pre_stats = []\n",
    "post_stats = []\n",
    "for us_idx in range(10):\n",
    "    original_vessel_us = sitk.ReadImage('./data/prediction_{}.seg.nrrd'.format(us_idx))\n",
    "    vessel_us = central_normalize_img(original_vessel_us,150)\n",
    "\n",
    "    CT2US, Hp, Hg, Hreg = calculate_ct2us_transform(vessel_us,vessel_ct)\n",
    "    hp = sitk.GetArrayFromImage(Hp)>0.5\n",
    "    hg = sitk.GetArrayFromImage(Hg)>0.5\n",
    "    hr = sitk.GetArrayFromImage(Hreg)>0.5\n",
    "\n",
    "    pre_stats.append((precision(hp,hg), recall(hp,hg), dice(hp,hg)))\n",
    "    post_stats.append((precision(hr,hg), recall(hr,hg), dice(hr,hg)))\n",
    "    "
   ]
  },
  {
   "cell_type": "code",
   "execution_count": 115,
   "metadata": {},
   "outputs": [
    {
     "data": {
      "image/png": "[encoded data removed]",
      "text/plain": [
       "<Figure size 1600x500 with 3 Axes>"
      ]
     },
     "metadata": {},
     "output_type": "display_data"
    }
   ],
   "source": [
    "pre_stats\n",
    "\n",
    "metric_name = ['Precision','Recall','DICE']\n",
    "\n",
    "rc('font',size=26)\n",
    "fig,axes = plt.subplots(1,3,figsize=(16,5),sharey=True)\n",
    "legend_plot = 1\n",
    "for i in range(3):\n",
    "    ax = axes[i]\n",
    "    pre_precision = [p[i] for p in pre_stats]\n",
    "\n",
    "    post_precision = [p[i] for p in post_stats]\n",
    "\n",
    "    width = 0.3\n",
    "\n",
    "    ax.bar(np.arange(1,11)-width/2, pre_precision,width,label='Before Mapping' if i==legend_plot else None)\n",
    "\n",
    "    ax.bar(np.arange(1,11)+width/2, post_precision,width,label='After Mapping' if i==legend_plot else None)\n",
    "    ax.set_xticks(np.arange(1,11))\n",
    "    ax.grid('on')\n",
    "    if i==legend_plot:\n",
    "        ax.legend()\n",
    "    ax.set_title(metric_name[i])\n",
    "    ax.set_xlabel('Trial No.')\n",
    "plt.tight_layout(pad=0.1)\n",
    "plt.savefig('./figures/registration_metric.png')\n",
    "plt.show()"
   ]
  },
  {
   "cell_type": "code",
   "execution_count": 43,
   "metadata": {},
   "outputs": [
    {
     "data": {
      "text/plain": [
       "[(0.6241928149158709, 0.39074242769300843, 0.48061906929514336),\n",
       " (0.8795159593125219, 0.5710544295149169, 0.6924882629107981),\n",
       " (0.8655028943560058, 0.5448075609200638, 0.6686932215234102),\n",
       " (0.7086914149020997, 0.4554201776360738, 0.5545041766316592),\n",
       " (0.8481349097241316, 0.5268731496242314, 0.6499736611062336),\n",
       " (0.43539219401288365, 0.26167160100204967, 0.32688477951635847),\n",
       " (0.5566123188405797, 0.3498633568663175, 0.4296601873863795),\n",
       " (0.3576394924387276, 0.23428603962650876, 0.283109735122119),\n",
       " (0.8503318197694726, 0.5544295149168754, 0.6712158808933002),\n",
       " (0.8551031687546058, 0.5285242541562286, 0.6532723434201266)]"
      ]
     },
     "execution_count": 43,
     "metadata": {},
     "output_type": "execute_result"
    }
   ],
   "source": [
    "post_stats"
   ]
  },
  {
   "cell_type": "code",
   "execution_count": 10,
   "metadata": {},
   "outputs": [
    {
     "name": "stdout",
     "output_type": "stream",
     "text": [
      "itk::simple::CompositeTransform\n",
      " CompositeTransform (0x13a2198d0)\n",
      "   RTTI typeinfo:   itk::CompositeTransform<double, 3u>\n",
      "   Reference Count: 1\n",
      "   Modified Time: 13532966\n",
      "   Debug: Off\n",
      "   Object Name: \n",
      "   Observers: \n",
      "     none\n",
      "   Transforms in queue, from begin to end:\n",
      "   >>>>>>>>>\n",
      "   TranslationTransform (0x13a20e3f0)\n",
      "     RTTI typeinfo:   itk::TranslationTransform<double, 3u>\n",
      "     Reference Count: 1\n",
      "     Modified Time: 3865\n",
      "     Debug: Off\n",
      "     Object Name: \n",
      "     Observers: \n",
      "       none\n",
      "     Offset: [-159.362, -56.8273, -71.171]\n",
      "   >>>>>>>>>\n",
      "   CompositeTransform (0x14af07290)\n",
      "     RTTI typeinfo:   itk::CompositeTransform<double, 3u>\n",
      "     Reference Count: 1\n",
      "     Modified Time: 13532962\n",
      "     Debug: Off\n",
      "     Object Name: \n",
      "     Observers: \n",
      "       none\n",
      "     Transforms in queue, from begin to end:\n",
      "     >>>>>>>>>\n",
      "     Euler3DTransform (0x14af0e880)\n",
      "       RTTI typeinfo:   itk::Euler3DTransform<double>\n",
      "       Reference Count: 1\n",
      "       Modified Time: 13532960\n",
      "       Debug: Off\n",
      "       Object Name: \n",
      "       Observers: \n",
      "         none\n",
      "       Matrix: \n",
      "         0.999554 0.0146345 0.0260333 \n",
      "         -0.0144167 0.99986 -0.00853724 \n",
      "         -0.0261546 0.00815812 0.999625 \n",
      "       Offset: [-16.1655, 1.27985, 8.27769]\n",
      "       Center: [196.498, 141.494, 96.6002]\n",
      "       Translation: [-11.6676, -2.39756, 4.25642]\n",
      "       Inverse: \n",
      "         0.999554 -0.0144167 -0.0261546 \n",
      "         0.0146345 0.99986 0.00815812 \n",
      "         0.0260333 -0.00853724 0.999625 \n",
      "       Singular: 0\n",
      "       Euler's angles: AngleX=0.00815821 AngleY=0.0261585 AngleZ=-0.0146355\n",
      "       m_ComputeZYX = 0\n",
      "     End of MultiTransform.\n",
      "<<<<<<<<<<\n",
      "     TransformsToOptimizeFlags, begin() to end(): \n",
      "          1 \n",
      "     TransformsToOptimize in queue, from begin to end:\n",
      "     End of TransformsToOptimizeQueue.\n",
      "<<<<<<<<<<\n",
      "     End of CompositeTransform.\n",
      "<<<<<<<<<<\n",
      "   End of MultiTransform.\n",
      "<<<<<<<<<<\n",
      "   TransformsToOptimizeFlags, begin() to end(): \n",
      "      0 1 \n",
      "   TransformsToOptimize in queue, from begin to end:\n",
      "   End of TransformsToOptimizeQueue.\n",
      "<<<<<<<<<<\n",
      "   End of CompositeTransform.\n",
      "<<<<<<<<<<\n",
      "\n"
     ]
    }
   ],
   "source": [
    "print(CT2US)"
   ]
  },
  {
   "cell_type": "code",
   "execution_count": 39,
   "metadata": {},
   "outputs": [],
   "source": [
    "with open('./data/CT2US.pkl','wb') as fp:\n",
    "    pkl.dump(CT2US,fp)"
   ]
  },
  {
   "cell_type": "code",
   "execution_count": 40,
   "metadata": {},
   "outputs": [],
   "source": [
    "with open('./data/CT2US.pkl','rb') as fp:\n",
    "    CT2US = pkl.load(fp)"
   ]
  }
 ],
 "metadata": {
  "kernelspec": {
   "display_name": "realsense",
   "language": "python",
   "name": "python3"
  },
  "language_info": {
   "codemirror_mode": {
    "name": "ipython",
    "version": 3
   },
   "file_extension": ".py",
   "mimetype": "text/x-python",
   "name": "python",
   "nbconvert_exporter": "python",
   "pygments_lexer": "ipython3",
   "version": "3.10.13"
  },
  "orig_nbformat": 4
 },
 "nbformat": 4,
 "nbformat_minor": 2
}
