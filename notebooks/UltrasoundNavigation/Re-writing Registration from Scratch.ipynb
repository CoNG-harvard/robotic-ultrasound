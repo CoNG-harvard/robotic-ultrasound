{
 "cells": [
  {
   "cell_type": "code",
   "execution_count": 1,
   "metadata": {},
   "outputs": [],
   "source": [
    "import numpy as np\n",
    "import yaml\n",
    "from matplotlib import pyplot as plt\n",
    "import SimpleITK as sitk\n",
    "from scipy.interpolate import RegularGridInterpolator\n",
    "\n",
    "\n",
    "%load_ext autoreload\n",
    "%autoreload 2"
   ]
  },
  {
   "cell_type": "markdown",
   "metadata": {},
   "source": [
    "# Utility functions"
   ]
  },
  {
   "cell_type": "code",
   "execution_count": 2,
   "metadata": {},
   "outputs": [],
   "source": [
    "\n",
    "def interp3(x,y,z,img_org, xr,yr,zr):\n",
    "    \"\"\"resampling\"\"\"\n",
    "    \n",
    "    xi,yi,zi = np.meshgrid(xr, yr, zr, indexing='ij')\n",
    "    min_val = np.min(img_org)\n",
    "\n",
    "    interp = RegularGridInterpolator((x,y,z),img_org,bounds_error=False,fill_value=min_val)\n",
    "    img = interp( (xi,yi,zi)).astype(np.float32)\n",
    "    \n",
    "    return img\n",
    "\n",
    "\n",
    "def centroid3(img):\n",
    "    nx, ny, nz = img.shape\n",
    "    # print(nx,ny,nz)\n",
    "    imgx = np.sum(np.sum(img, axis=1), axis=1)\n",
    "    imgy = np.sum(np.sum(img, axis=2), axis=0)\n",
    "    imgz = np.sum(np.sum(img, axis=0), axis=0)\n",
    "    denom = np.sum(np.sum(np.sum(img, axis=0), axis=0), axis=0)\n",
    "    cx = np.sum(np.linspace(0, nx-1, nx)*imgx)/denom\n",
    "    cy = np.sum(np.linspace(0, ny-1, ny)*imgy)/denom\n",
    "    cz = np.sum(np.linspace(0, nz-1, nz)*imgz)/denom\n",
    "    \n",
    "    return cx, cy, cz\n",
    "   \n",
    "def plot_slice(ploting_ax, img,slice,axis):\n",
    "    '''\n",
    "        Plot img along a specific axis.\n",
    "    '''\n",
    "\n",
    "    if axis==0:\n",
    "        ploting_ax.imshow(img[slice])\n",
    "    elif axis==1:\n",
    "        ploting_ax.imshow(img[:,slice,:])\n",
    "    elif axis==2:\n",
    "        ploting_ax.imshow(img[:,:,slice])\n",
    "    return ploting_ax\n",
    "\n",
    "def plot_img_at(img, coord):\n",
    "    '''\n",
    "        Plot the 3D slicing view of img at coord.\n",
    "    '''\n",
    "\n",
    "    l,p,s = coord\n",
    "    \n",
    "    axis_label ={\"L\":\"L: left to right\",\n",
    "                 \"P\":\"P: front to back\",\n",
    "                 \"S\":\"S: feet to head\"}\n",
    "    \n",
    "    target_marker = 'x'\n",
    "    target_size = 50\n",
    "    target_color = 'red'\n",
    "\n",
    "    ax = plt.subplot(1, 3, 1)\n",
    "\n",
    "    ax.xaxis.tick_top()\n",
    "    ax.xaxis.set_label_position('top') \n",
    "    ax.set_xlabel(axis_label[\"P\"])\n",
    "    ax.set_ylabel(axis_label[\"S\"])\n",
    "    ax.invert_yaxis()\n",
    "\n",
    "    ax.imshow(np.squeeze(img[l,:,:]).T)\n",
    "    ax.scatter(p,s,marker = target_marker,s=target_size,label='Target location',color = target_color)\n",
    "    ax.legend()\n",
    "\n",
    "    ax = plt.subplot(1, 3, 2)\n",
    "\n",
    "    ax.xaxis.tick_top()\n",
    "    ax.xaxis.set_label_position('top') \n",
    "    ax.set_xlabel(axis_label[\"L\"])\n",
    "    ax.set_ylabel(axis_label[\"S\"])\n",
    "    ax.invert_yaxis()\n",
    "\n",
    "    \n",
    "    ax.imshow(np.squeeze(img[:,p,:]).T)\n",
    "    ax.scatter(l,s,marker = target_marker,s=target_size,color = target_color)\n",
    "    \n",
    "    \n",
    "\n",
    "    ax = plt.subplot(1, 3, 3)\n",
    "    \n",
    "    ax.xaxis.tick_top()\n",
    "    ax.xaxis.set_label_position('top') \n",
    "    ax.set_xlabel(axis_label[\"L\"])\n",
    "    ax.set_ylabel(axis_label[\"P\"])\n",
    "    ax.invert_yaxis()\n",
    "\n",
    "\n",
    "    ax.imshow(np.squeeze(img[:,:,s]).T)\n",
    "    ax.scatter(l,p,marker = target_marker,s=target_size,color = target_color)\n",
    "    \n",
    "    \n",
    "    return ax\n",
    "def sitk2numpy(sitk_img):\n",
    "    '''\n",
    "        Return a numpy array that has the same shape as the sitk image.\n",
    "    '''\n",
    "    out = (sitk.GetArrayFromImage(sitk_img)).astype(np.float32)\n",
    "    return out\n"
   ]
  },
  {
   "cell_type": "markdown",
   "metadata": {},
   "source": [
    "# 3D Registration"
   ]
  },
  {
   "cell_type": "code",
   "execution_count": 3,
   "metadata": {},
   "outputs": [],
   "source": [
    "from tqdm import trange"
   ]
  },
  {
   "cell_type": "code",
   "execution_count": 18,
   "metadata": {},
   "outputs": [
    {
     "name": "stdout",
     "output_type": "stream",
     "text": [
      "Resampling the 3D images\n",
      "Coordinate difference:\t (diff_x, diff_y, diff_z) = (-24, 24, -5)\n",
      "Resolution: \t\t (res_x, res_y, res_z) = (1.00, 1.00, 1.00)\n",
      "Start optimizing the transformation\n"
     ]
    },
    {
     "name": "stderr",
     "output_type": "stream",
     "text": [
      "100%|██████████| 20/20 [00:37<00:00,  1.90s/it]\n"
     ]
    }
   ],
   "source": [
    "def loc2pixel(loc,spacing):\n",
    "    spacing = np.array(spacing)\n",
    "    return np.array(loc/spacing).astype(int)\n",
    "def pixel2loc(pixel,spacing):\n",
    "    spacing = np.array(spacing)\n",
    "    return pixel * spacing\n",
    "## resampling reference size and resolution\n",
    "vessel_us = sitk.ReadImage('vessel_us.nii.gz')\n",
    "\n",
    "vessel_ct = sitk.ReadImage('vessel_ct.nii.gz')\n",
    "o = [True,False,False] # The left-right order is different between the US image and CT image. We flip vessel_ct to make them consistent.\n",
    "vessel_ct = sitk.Flip(vessel_ct,o)\n",
    "\n",
    "ref_dx, ref_dy, ref_dz = 1.0, 1.0, 1.0\n",
    "ref_nx, ref_ny, ref_nz = 100, 100, 100 # Keep the grid size smaller than 150x150x150 for efficient computation\n",
    "\n",
    "xr = (np.linspace(0, ref_nx-1, ref_nx) - (ref_nx-1)/2.0)*ref_dx\n",
    "yr = (np.linspace(0, ref_ny-1, ref_ny) - (ref_ny-1)/2.0)*ref_dy\n",
    "zr = (np.linspace(0, ref_nz-1, ref_nz) - (ref_nz-1)/2.0)*ref_dz\n",
    "ct_shape = vessel_ct.GetSize()\n",
    "ct_res = vessel_ct.GetSpacing()\n",
    "us_shape = vessel_us.GetSize()\n",
    "us_res = vessel_us.GetSpacing()\n",
    "\n",
    "us_img_0 = (sitk.GetArrayFromImage(vessel_us)).astype(np.float32)\n",
    "# z,y,x->x,y,z\n",
    "us_img_0 = np.swapaxes(us_img_0,0,2)\n",
    "\n",
    "tmp_ct_img = (sitk.GetArrayFromImage(vessel_ct)).astype(np.float32)\n",
    "# z,y,x->x,y,z\n",
    "tmp_ct_img = np.swapaxes(tmp_ct_img,0,2)\n",
    "\n",
    "print(\"Resampling the 3D images\")\n",
    "## resampling ct and ultrasound images\n",
    "x = (np.linspace(0, ct_shape[0]-1, ct_shape[0]) - (ct_shape[0]-1)/2.0)*ct_res[0]\n",
    "y = (np.linspace(0, ct_shape[1]-1, ct_shape[1]) - (ct_shape[1]-1)/2.0)*ct_res[1]\n",
    "z = (np.linspace(0, ct_shape[2]-1, ct_shape[2]) - (ct_shape[2]-1)/2.0)*ct_res[2]\n",
    "img_ct = interp3(x, y, z, tmp_ct_img, xr, yr, zr)\n",
    "\n",
    "###### The center pixel of us_img_0 is defined as the origin of the cartesian continuous coordinate frame ######\n",
    "x = (np.linspace(0, us_shape[0]-1, us_shape[0]) - (us_shape[0]-1)/2.0)*us_res[0] \n",
    "y = (np.linspace(0, us_shape[1]-1, us_shape[1]) - (us_shape[1]-1)/2.0)*us_res[1]\n",
    "z = (np.linspace(0, us_shape[2]-1, us_shape[2]) - (us_shape[2]-1)/2.0)*us_res[2]\n",
    "us_img_1 = interp3(x, y, z, us_img_0, xr, yr, zr)\n",
    "###### The center pixel of us_img_1 and has the same continuous coordinate as the center pixel of us_img_0. ######\n",
    "# set the fixed image: CT\n",
    "fixed_image = sitk.GetImageFromArray(img_ct.astype(np.float32)) \n",
    "fixed_image.SetSpacing((ref_dx,ref_dy,ref_dz))\n",
    "sitk.WriteImage(fixed_image,'vessel_ct_resample.nii.gz')\n",
    "# First, we calculate the centroid and move (=attach) ultrasound image to ct image\n",
    "\n",
    "cx_us, cy_us, cz_us = np.round(centroid3(np.squeeze(us_img_1))).astype(np.int32)\n",
    "cx_ct, cy_ct, cz_ct = np.round(centroid3(np.squeeze(img_ct))).astype(np.int32)\n",
    "diff_x = cx_us-cx_ct\n",
    "diff_y = cy_us-cy_ct\n",
    "diff_z = cz_us-cz_ct\n",
    "print(\"Coordinate difference:\\t (diff_x, diff_y, diff_z) = (%d, %d, %d)\"%(diff_x, diff_y, diff_z))\n",
    "print(\"Resolution: \\t\\t (res_x, res_y, res_z) = (%.2f, %.2f, %.2f)\"%(ref_dx,ref_dy,ref_dz))\n",
    "# Usually vessel images are apart from each other. \n",
    "# Move the ultrasound image using centroid: now ultrasound and ct vessels are close, which is good for the rigid registration. \n",
    "\n",
    "img_us_move_centroid = interp3((xr-diff_x), (yr-diff_y), (zr-diff_z), us_img_1, xr, yr, zr)\n",
    "moving_image = sitk.GetImageFromArray(img_us_move_centroid)\n",
    "moving_image.SetSpacing((ref_dx,ref_dy,ref_dz))\n",
    "sitk.WriteImage(moving_image,'vessel_us_resample.nii.gz')\n",
    "\n",
    "## https://simpleitk.org/SPIE2019_COURSE/04_basic_registration.html\n",
    "\n",
    "initial_transform = sitk.CenteredTransformInitializer(fixed_image, \n",
    "                                                      moving_image, \n",
    "                                                      sitk.Euler3DTransform(), \n",
    "                                                      sitk.CenteredTransformInitializerFilter.GEOMETRY)\n",
    "num_iter = 20\n",
    "print('Start optimizing the transformation')\n",
    "for ii in trange(num_iter):\n",
    "    registration_method = sitk.ImageRegistrationMethod()\n",
    "    registration_method.SetMetricAsMattesMutualInformation(numberOfHistogramBins=20)\n",
    "    registration_method.SetMetricSamplingStrategy(registration_method.REGULAR )\n",
    "    registration_method.SetMetricSamplingPercentage(0.2)    \n",
    "    registration_method.SetInterpolator(sitk.sitkNearestNeighbor)\n",
    "    registration_method.SetOptimizerAsGradientDescent(learningRate=1.0, numberOfIterations=30, convergenceMinimumValue=1e-7, convergenceWindowSize=10)\n",
    "    registration_method.SetOptimizerScalesFromPhysicalShift()\n",
    "    \n",
    "    \n",
    "    # Don't optimize in-place. We want to run this cell multiple times.\n",
    "    registration_method.SetInitialTransform(initial_transform, inPlace=False)\n",
    "    \n",
    "    rigid_transform = registration_method.Execute(fixed_image, moving_image)\n",
    "\n",
    "moving_reg = sitk.Resample(moving_image, fixed_image, rigid_transform, sitk.sitkLinear, 0.0, moving_image.GetPixelID())\n",
    "sitk.WriteImage(moving_reg,'vessel_reg.nii.gz')\n"
   ]
  },
  {
   "cell_type": "markdown",
   "metadata": {},
   "source": [
    "# Visualize registration result"
   ]
  },
  {
   "cell_type": "code",
   "execution_count": 19,
   "metadata": {},
   "outputs": [],
   "source": [
    "img_ct_final = (sitk.GetArrayFromImage(fixed_image)).astype(np.float32)\n",
    "img_us_final = (sitk.GetArrayFromImage(moving_reg)).astype(np.float32)\n",
    "\n"
   ]
  },
  {
   "cell_type": "code",
   "execution_count": 36,
   "metadata": {},
   "outputs": [
    {
     "data": {
      "text/plain": [
       "<SimpleITK.SimpleITK.Transform; proxy of <Swig Object of type 'itk::simple::Transform *' at 0x7ff5400feb70> >"
      ]
     },
     "execution_count": 36,
     "metadata": {},
     "output_type": "execute_result"
    }
   ],
   "source": [
    "rigid_transform"
   ]
  },
  {
   "cell_type": "code",
   "execution_count": 45,
   "metadata": {},
   "outputs": [],
   "source": [
    "def getCenterCoord(sitk_img):\n",
    "    '''\n",
    "        Assumption: the origins of continuous and pixel coordinate of sitk_img coincide.\n",
    "\n",
    "        Output: the continuous coordinate of the center of a sitk_img in sitk_img's frame.\n",
    "    '''\n",
    "    return pixel2loc(np.array(sitk_img.GetSize())/2,sitk_img.GetSpacing())"
   ]
  },
  {
   "cell_type": "code",
   "execution_count": 53,
   "metadata": {},
   "outputs": [],
   "source": [
    "ct_center = getCenterCoord(vessel_ct)\n",
    "resampled_ct_center = getCenterCoord(fixed_image)\n",
    "CT2ResampledCT = sitk.TranslationTransform(3, resampled_ct_center-ct_center)"
   ]
  },
  {
   "cell_type": "code",
   "execution_count": 58,
   "metadata": {},
   "outputs": [],
   "source": [
    "us_center = getCenterCoord(vessel_us)\n",
    "resampled_us_center = getCenterCoord(moving_image)\n",
    "diffs = np.array([diff_x,diff_y,diff_z])\n",
    "refs = np.array([ref_dx,ref_dy,ref_dz])\n",
    "\n",
    "US2ResampledUS = sitk.TranslationTransform(3,resampled_us_center-us_center-diffs*refs)"
   ]
  },
  {
   "cell_type": "code",
   "execution_count": 62,
   "metadata": {},
   "outputs": [
    {
     "data": {
      "text/plain": [
       "(100, 100, 100)"
      ]
     },
     "execution_count": 62,
     "metadata": {},
     "output_type": "execute_result"
    }
   ],
   "source": [
    "img_us_move_centroid.shape"
   ]
  },
  {
   "cell_type": "code",
   "execution_count": null,
   "metadata": {},
   "outputs": [],
   "source": []
  },
  {
   "cell_type": "code",
   "execution_count": null,
   "metadata": {},
   "outputs": [],
   "source": [
    "sitk.Resample(ves,)"
   ]
  },
  {
   "cell_type": "code",
   "execution_count": 51,
   "metadata": {},
   "outputs": [
    {
     "data": {
      "text/plain": [
       "(50.0, 50.0, 50.0)"
      ]
     },
     "execution_count": 51,
     "metadata": {},
     "output_type": "execute_result"
    }
   ],
   "source": [
    "CT2ResampledCT.TransformPoint(ct_center)"
   ]
  },
  {
   "cell_type": "code",
   "execution_count": 35,
   "metadata": {},
   "outputs": [
    {
     "data": {
      "image/png": "[encoded data removed]",
      "text/plain": [
       "<Figure size 1080x432 with 3 Axes>"
      ]
     },
     "metadata": {
      "needs_background": "light"
     },
     "output_type": "display_data"
    }
   ],
   "source": [
    "\n",
    "target_pixel = np.array(centroid3(tmp_ct_img) + np.array([0,0,0]),dtype=int)\n",
    "plt.figure(figsize=(15,6))\n",
    "plot_img_at(tmp_ct_img,target_pixel)\n",
    "plt.suptitle(\"CT Target\")\n",
    "plt.show()\n",
    "\n",
    "\n",
    "\n",
    "# target_loc = centroid3(img_ct_final)+ np.array([0,0,6])\n",
    "# target_pixel = loc2pixel(target_loc,fixed_image.GetSpacing())\n",
    "\n",
    "# plt.figure(figsize=(15,6))\n",
    "# plot_img_at(img_ct_final,target_pixel)\n",
    "# plt.suptitle(\"CT Target resampled\")\n",
    "# plt.show()\n",
    "\n",
    "# inv = rigid_transform.GetInverse()\n",
    "# us_loc_1 = inv.TransformPoint(target_loc.astype(float))\n",
    "# us_loc_1 += np.array([diff_x,diff_y,diff_z])\n",
    "# us_pixel_1 = loc2pixel(us_loc_1,moving_image.GetSpacing())\n",
    "\n",
    "# plt.figure(figsize=(15,6))\n",
    "# plot_img_at(us_img_1,us_pixel_1)\n",
    "# plt.suptitle(\"Target in Transformed US 1\")\n",
    "# plt.show()\n",
    "\n",
    "\n",
    "# us_loc_0 = pixel2loc(us_pixel_1 - np.array(us_img_1.shape)/2,moving_image.GetSpacing())\n",
    "# us_pixel_0 = loc2pixel(us_loc_0,us_res)+np.array(us_img_0.shape)//2\n",
    "# plt.figure(figsize=(15,6))\n",
    "# plot_img_at(us_img_0,us_pixel_0)\n",
    "# plt.suptitle(\"Target in Original US\")\n",
    "# plt.show()"
   ]
  },
  {
   "cell_type": "code",
   "execution_count": 23,
   "metadata": {},
   "outputs": [
    {
     "name": "stdout",
     "output_type": "stream",
     "text": [
      "[27  3 66]\n"
     ]
    },
    {
     "data": {
      "image/png": "[encoded data removed]",
      "text/plain": [
       "<Figure size 1080x432 with 3 Axes>"
      ]
     },
     "metadata": {
      "needs_background": "light"
     },
     "output_type": "display_data"
    },
    {
     "data": {
      "image/png": "[encoded data removed]",
      "text/plain": [
       "<Figure size 1080x432 with 3 Axes>"
      ]
     },
     "metadata": {
      "needs_background": "light"
     },
     "output_type": "display_data"
    },
    {
     "data": {
      "image/png": "[encoded data removed]",
      "text/plain": [
       "<Figure size 1080x432 with 3 Axes>"
      ]
     },
     "metadata": {
      "needs_background": "light"
     },
     "output_type": "display_data"
    }
   ],
   "source": [
    "\n",
    "target_loc = centroid3(img_ct_final)+ np.array([-40,-10,6])\n",
    "# target_loc = np.array(centroid3(img_ct_final))\n",
    "target_pixel = loc2pixel(target_loc,fixed_image.GetSpacing())\n",
    "print(target_pixel)\n",
    "plt.figure(figsize=(15,6))\n",
    "plot_img_at(img_ct_final,target_pixel)\n",
    "plt.suptitle(\"CT Target\")\n",
    "plt.show()\n",
    "\n",
    "inv = rigid_transform.GetInverse()\n",
    "us_loc_1 = inv.TransformPoint(target_loc.astype(float))\n",
    "us_loc_1 += np.array([diff_x,diff_y,diff_z])\n",
    "us_pixel_1 = loc2pixel(us_loc_1,moving_image.GetSpacing())\n",
    "\n",
    "plt.figure(figsize=(15,6))\n",
    "plot_img_at(us_img_1,us_pixel_1)\n",
    "plt.suptitle(\"Target in Transformed US 1\")\n",
    "plt.show()\n",
    "\n",
    "\n",
    "us_loc_0 = pixel2loc(us_pixel_1 - np.array(us_img_1.shape)/2,moving_image.GetSpacing())\n",
    "us_pixel_0 = loc2pixel(us_loc_0,us_res)+np.array(us_img_0.shape)//2\n",
    "plt.figure(figsize=(15,6))\n",
    "plot_img_at(us_img_0,us_pixel_0)\n",
    "plt.suptitle(\"Target in Original US\")\n",
    "plt.show()"
   ]
  },
  {
   "cell_type": "code",
   "execution_count": 15,
   "metadata": {},
   "outputs": [],
   "source": [
    "pipeline.stop()"
   ]
  },
  {
   "cell_type": "code",
   "execution_count": 9,
   "metadata": {},
   "outputs": [],
   "source": [
    "ultrasoud_vid.release()"
   ]
  },
  {
   "cell_type": "markdown",
   "metadata": {},
   "source": [
    "# Clean up"
   ]
  },
  {
   "cell_type": "code",
   "execution_count": 37,
   "metadata": {},
   "outputs": [],
   "source": [
    "ultrasoud_vid.release()\n",
    "pipeline.stop()"
   ]
  },
  {
   "cell_type": "markdown",
   "metadata": {},
   "source": []
  },
  {
   "cell_type": "markdown",
   "metadata": {},
   "source": [
    "# Useful Scripts"
   ]
  },
  {
   "cell_type": "code",
   "execution_count": 4,
   "metadata": {},
   "outputs": [],
   "source": [
    "# Script for saving default pose\n",
    "with open('../../config/default_pose.yaml','w') as f:\n",
    "    yaml.safe_dump({'default_pose':rtde_r.getActualTCPPose()},f)"
   ]
  }
 ],
 "metadata": {
  "kernelspec": {
   "display_name": "realsense",
   "language": "python",
   "name": "python3"
  },
  "language_info": {
   "codemirror_mode": {
    "name": "ipython",
    "version": 3
   },
   "file_extension": ".py",
   "mimetype": "text/x-python",
   "name": "python",
   "nbconvert_exporter": "python",
   "pygments_lexer": "ipython3",
   "version": "3.6.13"
  },
  "orig_nbformat": 4
 },
 "nbformat": 4,
 "nbformat_minor": 2
}
